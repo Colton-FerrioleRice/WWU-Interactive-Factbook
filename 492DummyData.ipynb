{
  "nbformat": 4,
  "nbformat_minor": 0,
  "metadata": {
    "colab": {
      "provenance": [],
      "include_colab_link": true
    },
    "kernelspec": {
      "name": "python3",
      "display_name": "Python 3"
    },
    "language_info": {
      "name": "python"
    }
  },
  "cells": [
    {
      "cell_type": "markdown",
      "metadata": {
        "id": "view-in-github",
        "colab_type": "text"
      },
      "source": [
        "<a href=\"https://colab.research.google.com/github/Colton-FerrioleRice/WWU-Interactive-Factbook/blob/main/492DummyData.ipynb\" target=\"_parent\"><img src=\"https://colab.research.google.com/assets/colab-badge.svg\" alt=\"Open In Colab\"/></a>"
      ]
    },
    {
      "cell_type": "code",
      "source": [
        "pip install pyarrow"
      ],
      "metadata": {
        "colab": {
          "base_uri": "https://localhost:8080/"
        },
        "id": "4TSOY-qmWLLa",
        "outputId": "7431bf96-5c22-4d7b-a884-be8f257c0ea8"
      },
      "execution_count": null,
      "outputs": [
        {
          "output_type": "stream",
          "name": "stdout",
          "text": [
            "Requirement already satisfied: pyarrow in /usr/local/lib/python3.11/dist-packages (17.0.0)\n",
            "Requirement already satisfied: numpy>=1.16.6 in /usr/local/lib/python3.11/dist-packages (from pyarrow) (1.26.4)\n"
          ]
        }
      ]
    },
    {
      "cell_type": "code",
      "execution_count": null,
      "metadata": {
        "colab": {
          "base_uri": "https://localhost:8080/"
        },
        "id": "aVYNTn3kC4Fl",
        "outputId": "3fb4c9b2-41c0-467f-ecba-7e0a62e8d39c"
      },
      "outputs": [
        {
          "output_type": "stream",
          "name": "stdout",
          "text": [
            "Mounted at /content/gdrive\n"
          ]
        }
      ],
      "source": [
        "from google.colab import drive\n",
        "drive.mount('/content/gdrive')"
      ]
    },
    {
      "cell_type": "code",
      "source": [
        "import pandas as pd"
      ],
      "metadata": {
        "id": "Y7kowBflEAVR"
      },
      "execution_count": null,
      "outputs": []
    },
    {
      "cell_type": "code",
      "source": [
        "years=['2010','2011','2012','2013','2014','2015','2016','2017','2018','2019','2020','2021','2022']\n",
        "ENROLLMENT=pd.DataFrame()\n",
        "RACEETHNICITY=pd.DataFrame()\n",
        "\n",
        "#This will loop through each year specified, and do the needed transformations and cleanup\n",
        "for year in years:\n",
        "  #Total Enrollment Info\n",
        "  EFFY2018 = pd.read_csv('/content/gdrive/MyDrive/Webscraper/EFFY'+year+'/effy'+year+'_rv.csv', header = 0)\n",
        "  #Race, Ethnicity, Gender of students\n",
        "  EF2018A = pd.read_csv('/content/gdrive/MyDrive/Webscraper/EF'+year+'A/ef'+year+'a_rv.csv', header = 0)\n",
        "  #Enrollment by Age group of students\n",
        "  EF2018B = pd.read_csv('/content/gdrive/MyDrive/Webscraper/EF'+year+'B/ef'+year+'b_rv.csv', header = 0)\n",
        "  #Enrollment by state\n",
        "  EF2018C = pd.read_csv('/content/gdrive/MyDrive/Webscraper/EF'+year+'C/ef'+year+'c_rv.csv', header = 0)\n",
        "  #Enrollment by graduation level\n",
        "  EF2018D= pd.read_csv('/content/gdrive/MyDrive/Webscraper/EF'+year+'D/ef'+year+'d_rv.csv', header = 0)\n",
        "  UNITIDS=pd.read_csv('/content/gdrive/MyDrive/DummyData2018/UNITIDS.csv', header = 0)\n",
        "\n",
        "  #This section of code is just taking in every raw form, filtering out variables we want, and renaming some variables for readability\n",
        "  EFFY2018=EFFY2018.filter(['UNITID','EFFYLEV','EFYTOTLT','EFYTOTLM','EFYTOTLW'])\n",
        "  EFFY2018.rename(columns = {'EFFYLEV':'Student Level','EFYTOTLT':'Total Students','EFYTOTLM':'Total Male Students','EFYTOTLW':'Total Female Students'}, inplace = True)\n",
        "  EFFY2018=EFFY2018.replace({'Student Level':{1:'All Levels',2:'Undergraduate Students',4:'Graduate Students',-2:'Not Applicable'}})\n",
        "\n",
        "  EF2018A=EF2018A.filter(['UNITID','EFALEVEL','LINE','LSTUDY','SECTION','EFUNKNT','EFAIANT','EFASIAT','EFBKAAT','EFHISPT','EFNHPIT','EFWHITT','EF2MORT'])\n",
        "  EF2018A.rename(columns = {'EFALEVEL':'Level and Degree Seeking Status','LSTUDY':'Level of Student','SECTION':'Full time/Part time/All students', 'EFUNKNM':'Race/Ethnicity Unknown Male','EFUNKNW':'Race/Ethnicity Unknown Female','EFUNKNT':'Race/Ethnicity Unknown','EFAIANT':'American Indian or Alaska Native','EFASIAT':'Asian','EFBKAAT':'Black or African American','EFHISPT':'Hispanic','EFNHPIT':'Native Hawaiian or Other Pacific Islander','EFWHITT':'White','EF2MORT':'Two or more races'}, inplace = True)\n",
        "\n",
        "  EF2018B=EF2018B.filter(['UNITID','EFBAGE','LSTUDY','EFAGE01','EFAGE02','EFAGE03','EFAGE04','EFAGE05','EFAGE06','EFAGE07','EFAGE08','EFAGE09'])\n",
        "  EF2018B.rename(columns={'EFBAGE':'Age Catagory','LSTUDY':'Level of Student','EFAGE01':'Full Time Men','EFAGE02':'Full Time Women','EFAGE03':'Part Time Men','EFAGE04':'Part Time Women','EFAGE05':'Full Time Total','EFAGE06':'Part Time Total','EFAGE07':'Total Men','EFAGE08':'Total Women','EFAGE09':'Grand Total'},inplace=True)\n",
        "  EF2018B=EF2018B.replace({'Age Catagory':{1:'All age categories total',2:'Age under 25 total',3:'Age under 18',4:'Age 18-19',5:'Age 20-21',6:'Age 22-24',7:'Age 25 and over total',8:'Age 25-29',9:'Age 30-34',10:'Age 35-39',11:'Age 40-49',12:'Age 50-64',13:'Age 65 and over',14:'Age unknown'},'Level of Student':{1:'All Students total',2:'Undergraduate',5:'Graduate'}})\n",
        "\n",
        "  EF2018C=EF2018C.filter(['UNITID','EFCSTATE','EFRES01','EFRES02'])\n",
        "  EF2018C.rename(columns={'EFCSTATE':'State','EFRES01':'First-time degree/certificate-seeking undergraduate students','EFRES02':'First-time degree/certificate-seeking undergraduate students who graduated from high school in the past 12 months'},inplace=True)\n",
        "\n",
        "  EF2018D=EF2018D.filter(['UNITID','GRCOHRT','UGENTERN','PGRCOHRT','RET_PCF','RET_PCP','RRFTCT'])\n",
        "  EF2018D.rename(columns={'GRCOHRT':'Full-time first-time degree/certificate-seeking undergraduate','UGENTERN':'Total entering students at the undergraduate level, fall 2018','PGRCOHRT':'Current year GRS cohort as a percent of entering class','RET_PCF':'Full-time retention rate, 2018','RRFTCT':'Full-time fall 2017 cohort'}, inplace =True)\n",
        "\n",
        "  EFFY2018['UNITID']=EFFY2018['UNITID'].astype(str)\n",
        "  #EFFY2018 = pd.merge(EFFY2018, UNITIDS, on=\"UNITID\")\n",
        "  EF2018A['UNITID']=EF2018A['UNITID'].astype(str)\n",
        "  #EF2018A = pd.merge(EF2018A, UNITIDS, on=\"UNITID\")\n",
        "  EF2018B['UNITID']=EF2018B['UNITID'].astype(str)\n",
        "  #EF2018B = pd.merge(EF2018B, UNITIDS, on=\"UNITID\")\n",
        "  EF2018C['UNITID']=EF2018C['UNITID'].astype(str)\n",
        "  #EF2018C = pd.merge(EF2018C, UNITIDS, on=\"UNITID\")\n",
        "  EF2018D['UNITID']=EF2018D['UNITID'].astype(str)\n",
        "  #EF2018D = pd.merge(EF2018D, UNITIDS, on=\"UNITID\")\n",
        "\n",
        "  RaceEthnicity=pd.DataFrame(columns=['UNITID','Year'])\n",
        "  RaceEthnicity['UNITID']=EFFY2018.filter(['UNITID'])\n",
        "  RaceEthnicity['Year']=year\n",
        "  RaceEthnicity=pd.merge(RaceEthnicity,EF2018A[EF2018A['Level and Degree Seeking Status']==1],on='UNITID').drop(columns=['Level and Degree Seeking Status','Level of Student','Full time/Part time/All students','LINE'])\n",
        "  RaceEthnicity=RaceEthnicity.drop_duplicates(subset='UNITID')\n",
        "\n",
        "  Enrollment=pd.DataFrame(columns=['UNITID','Year'])\n",
        "  Enrollment['UNITID']=EFFY2018.filter(['UNITID'])\n",
        "  Enrollment['Year']=year\n",
        "  Enrollment=pd.merge(Enrollment,EFFY2018[EFFY2018['Student Level']=='All Levels'],on='UNITID')\n",
        "  Enrollment=pd.merge(Enrollment,EFFY2018[EFFY2018['Student Level']=='Graduate Students'].drop(columns=['Student Level','Total Male Students','Total Female Students']).rename(columns={'Total Students':'Total_Graduate'}),on='UNITID')\n",
        "  Enrollment=pd.merge(Enrollment,EFFY2018[EFFY2018['Student Level']=='Undergraduate Students'].drop(columns=['Student Level','Total Male Students','Total Female Students']).rename(columns={'Total Students':'Total_Undergraduate'}),on='UNITID')\n",
        "  ALLLEVELS=EF2018B[EF2018B['Level of Student']=='All Students total']\n",
        "  TIME=ALLLEVELS[ALLLEVELS['Age Catagory']=='All age categories total'].drop(columns=['Age Catagory','Level of Student','Total Men','Total Women'])\n",
        "  Enrollment=pd.merge(Enrollment,TIME,on='UNITID')\n",
        "\n",
        "  ALLLEVELS=EF2018B[EF2018B['Level of Student']=='All Students total']\n",
        "  UNDER18=ALLLEVELS[ALLLEVELS['Age Catagory']=='Age under 18'].drop(columns=['Age Catagory','Level of Student','Full Time Men','Full Time Women','Part Time Men','Part Time Women','Full Time Total','Part Time Total'])\n",
        "  UNDER18['Under_18']=UNDER18['Total Men']+UNDER18['Total Women']\n",
        "  UNDER18=UNDER18.drop(columns=['Total Men','Total Women'])\n",
        "  Enrollment=pd.merge(Enrollment,UNDER18,on='UNITID')\n",
        "\n",
        "  ALLLEVELS=EF2018B[EF2018B['Level of Student']=='All Students total']\n",
        "  AGE1819=ALLLEVELS[ALLLEVELS['Age Catagory']=='Age 18-19'].drop(columns=['Age Catagory','Level of Student','Full Time Men','Full Time Women','Part Time Men','Part Time Women','Full Time Total','Part Time Total'])\n",
        "  AGE1819['18_to_19']=AGE1819['Total Men']+AGE1819['Total Women']\n",
        "  AGE1819=AGE1819.drop(columns=['Total Men','Total Women'])\n",
        "  Enrollment=pd.merge(Enrollment,AGE1819,on='UNITID')\n",
        "\n",
        "  ALLLEVELS=EF2018B[EF2018B['Level of Student']=='All Students total']\n",
        "  AGE1819=ALLLEVELS[ALLLEVELS['Age Catagory']=='Age 20-21'].drop(columns=['Age Catagory','Level of Student','Full Time Men','Full Time Women','Part Time Men','Part Time Women','Full Time Total','Part Time Total'])\n",
        "  AGE1819['20_to_21']=AGE1819['Total Men']+AGE1819['Total Women']\n",
        "  AGE1819=AGE1819.drop(columns=['Total Men','Total Women'])\n",
        "  Enrollment=pd.merge(Enrollment,AGE1819,on='UNITID')\n",
        "\n",
        "  ALLLEVELS=EF2018B[EF2018B['Level of Student']=='All Students total']\n",
        "  AGE1819=ALLLEVELS[ALLLEVELS['Age Catagory']=='Age 22-24'].drop(columns=['Age Catagory','Level of Student','Full Time Men','Full Time Women','Part Time Men','Part Time Women','Full Time Total','Part Time Total'])\n",
        "  AGE1819['22_to_24']=AGE1819['Total Men']+AGE1819['Total Women']\n",
        "  AGE1819=AGE1819.drop(columns=['Total Men','Total Women'])\n",
        "  Enrollment=pd.merge(Enrollment,AGE1819,on='UNITID')\n",
        "\n",
        "  ALLLEVELS=EF2018B[EF2018B['Level of Student']=='All Students total']\n",
        "  AGE1819=ALLLEVELS[ALLLEVELS['Age Catagory']=='Age 25-29'].drop(columns=['Age Catagory','Level of Student','Full Time Men','Full Time Women','Part Time Men','Part Time Women','Full Time Total','Part Time Total'])\n",
        "  AGE1819['25_to_29']=AGE1819['Total Men']+AGE1819['Total Women']\n",
        "  AGE1819=AGE1819.drop(columns=['Total Men','Total Women'])\n",
        "  Enrollment=pd.merge(Enrollment,AGE1819,on='UNITID')\n",
        "\n",
        "  ALLLEVELS=EF2018B[EF2018B['Level of Student']=='All Students total']\n",
        "  AGE1819=ALLLEVELS[ALLLEVELS['Age Catagory']=='Age 25 and over total'].drop(columns=['Age Catagory','Level of Student','Full Time Men','Full Time Women','Part Time Men','Part Time Women','Full Time Total','Part Time Total'])\n",
        "  AGE1819['Over_30']=AGE1819['Total Men']+AGE1819['Total Women']\n",
        "  AGE1819=AGE1819.drop(columns=['Total Men','Total Women'])\n",
        "  Enrollment=pd.merge(Enrollment,AGE1819,on='UNITID')\n",
        "  Enrollment['Over_30']=Enrollment['Over_30']-Enrollment['25_to_29']\n",
        "\n",
        "  Enrollment = Enrollment.drop_duplicates(subset='UNITID')\n",
        "  Enrollment=Enrollment.rename(columns={'Total Students':'Total_Students','Total Male Students':'Total_Male_Students','Total Female Students':'Total_Female_Students','Full Time Men':'Full_Time_Men','Full Time Women':'Full_Time_Womwn','Part Time Men':'Part_Time_Men','Part Time Women':'Part_Time_Women','Full Time Total':'Full_Time_Total','Part Time Total':'Part_Time_Total'})\n",
        "  Enrollment=Enrollment.drop(columns=['Student Level'])\n",
        "  ENROLLMENT=pd.concat([ENROLLMENT,Enrollment],ignore_index=True,axis=0)\n",
        "  RACEETHNICITY=pd.concat([RACEETHNICITY,RaceEthnicity],ignore_index=True,axis=0)\n"
      ],
      "metadata": {
        "id": "wpKAdtPIECsA"
      },
      "execution_count": null,
      "outputs": []
    },
    {
      "cell_type": "code",
      "source": [
        "filepath1 = '/content/gdrive/MyDrive/DummyData2018/ENROLLMENT.csv'\n",
        "ENROLLMENT.to_csv(filepath1)\n",
        "filepath2 = '/content/gdrive/MyDrive/DummyData2018/RACEETHNICITY.csv'\n",
        "RACEETHNICITY.to_csv(filepath2)"
      ],
      "metadata": {
        "id": "fUrD0-qHhI2F"
      },
      "execution_count": null,
      "outputs": []
    },
    {
      "cell_type": "code",
      "source": [
        "#Enrollment['First_Year_Enrollment']=\n",
        "#Enrollment['Pell_Eligible']="
      ],
      "metadata": {
        "id": "aQ_WAQoNdAaa"
      },
      "execution_count": null,
      "outputs": []
    },
    {
      "cell_type": "code",
      "source": [
        "  filepath1 = '/content/gdrive/MyDrive/DummyData2018/EFFY'+year+'.csv'\n",
        "  EFFY2018.to_csv(filepath1)\n",
        "  filepath2 = '/content/gdrive/MyDrive/DummyData2018/EF'+year+'A.csv'\n",
        "  EF2018A.to_csv(filepath2)\n",
        "  filepath3 = '/content/gdrive/MyDrive/DummyData2018/EF'+year+'B.csv'\n",
        "  EF2018B.to_csv(filepath3)\n",
        "  filepath4 = '/content/gdrive/MyDrive/DummyData2018/EF'+year+'C.csv'\n",
        "  EF2018C.to_csv(filepath4)\n",
        "  filepath5 = '/content/gdrive/MyDrive/DummyData2018/EF'+year+'D.csv'\n",
        "  EF2018D.to_csv(filepath5)\n",
        "  filepath6='/content/gdrive/MyDrive/DummyData2018/Enrollment'+year+'.csv'\n",
        "  Enrollment.to_csv(filepath6)"
      ],
      "metadata": {
        "id": "atubTYjbgXVo"
      },
      "execution_count": null,
      "outputs": []
    },
    {
      "cell_type": "code",
      "source": [
        "  filepath1 = '/content/gdrive/MyDrive/DummyData2018/EFFY'+year+'.parquet'\n",
        "  EFFY2018.to_parquet(filepath1, engine='pyarrow')\n",
        "  filepath2 = '/content/gdrive/MyDrive/DummyData2018/EF'+year+'A.parquet'\n",
        "  EF2018A.to_parquet(filepath2, engine='pyarrow')\n",
        "  filepath3 = '/content/gdrive/MyDrive/DummyData2018/EF'+year+'B.parquet'\n",
        "  EF2018B.to_parquet(filepath3, engine='pyarrow')\n",
        "  filepath4 = '/content/gdrive/MyDrive/DummyData2018/EF'+year+'C.parquet'\n",
        "  EF2018C.to_parquet(filepath4, engine='pyarrow')\n",
        "  filepath5 = '/content/gdrive/MyDrive/DummyData2018/EF'+year+'D.parquet'\n",
        "  EF2018D.to_parquet(filepath5, engine='pyarrow')"
      ],
      "metadata": {
        "id": "ZdkkX3VTYBhW"
      },
      "execution_count": null,
      "outputs": []
    }
  ]
}