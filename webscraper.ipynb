{
  "nbformat": 4,
  "nbformat_minor": 0,
  "metadata": {
    "colab": {
      "provenance": [],
      "include_colab_link": true
    },
    "kernelspec": {
      "name": "python3",
      "display_name": "Python 3"
    },
    "language_info": {
      "name": "python"
    }
  },
  "cells": [
    {
      "cell_type": "markdown",
      "metadata": {
        "id": "view-in-github",
        "colab_type": "text"
      },
      "source": [
        "<a href=\"https://colab.research.google.com/github/Colton-FerrioleRice/WWU-Interactive-Factbook/blob/main/webscraper.ipynb\" target=\"_parent\"><img src=\"https://colab.research.google.com/assets/colab-badge.svg\" alt=\"Open In Colab\"/></a>"
      ]
    },
    {
      "cell_type": "markdown",
      "source": [
        "Mounting the google drive so that you can write to it"
      ],
      "metadata": {
        "id": "8eapDcB3dz8n"
      }
    },
    {
      "cell_type": "code",
      "source": [
        "from google.colab import drive\n",
        "drive.mount('/content/gdrive')"
      ],
      "metadata": {
        "colab": {
          "base_uri": "https://localhost:8080/"
        },
        "id": "aKogCrJYolfO",
        "outputId": "66d45f54-6714-4cd5-936a-f32d2c3ecb90"
      },
      "execution_count": null,
      "outputs": [
        {
          "output_type": "stream",
          "name": "stdout",
          "text": [
            "Mounted at /content/gdrive\n"
          ]
        }
      ]
    },
    {
      "cell_type": "code",
      "execution_count": null,
      "metadata": {
        "id": "RmzhdcC0ZSP2"
      },
      "outputs": [],
      "source": [
        "import re\n",
        "import os\n",
        "import requests\n",
        "from bs4 import BeautifulSoup\n",
        "import zipfile\n",
        "years=['2005','2006','2007','2008','2009','2010','2011','2012','2013','2014','2015','2016','2017','2018','2019','2020','2021','2022']\n",
        "for year in years:\n",
        "  forms=['EFFY'+year,'EF'+year+'A','EF'+year+'B','EF'+year+'C','EF'+year+'D','HD'+year,'SFA'+year, 'GR'+year]\n",
        "  for form in forms:\n",
        "    zip_file = form+'.zip'\n",
        "    root = 'https://nces.ed.gov/ipeds/datacenter/data/'\n",
        "    download_folder = '/content/gdrive/MyDrive/Webscraper'\n",
        "    full_url = root + zip_file\n",
        "    r = requests.get(full_url)\n",
        "    dl_path = os.path.join(download_folder, zip_file)\n",
        "    with open(dl_path, 'wb') as z_file:\n",
        "        z_file.write(r.content)\n",
        "\n",
        "    extract_dir = os.path.splitext(os.path.basename(zip_file))[0]\n",
        "    try:\n",
        "      z = zipfile.ZipFile(dl_path)\n",
        "      z.extractall(os.path.join(download_folder, extract_dir))\n",
        "    except zipfile.BadZipfile:\n",
        "      pass"
      ]
    }
  ]
}